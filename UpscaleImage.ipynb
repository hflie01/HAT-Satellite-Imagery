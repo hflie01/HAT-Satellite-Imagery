{
 "cells": [
  {
   "cell_type": "code",
   "execution_count": null,
   "id": "1ca5d010-7ca9-4c79-9afb-18d2d7fdc7a2",
   "metadata": {},
   "outputs": [],
   "source": [
    "import cv2\n",
    "\n",
    "def upscale_image_opencv(input_image_path, output_image_path, scale_factor):\n",
    "    img = cv2.imread(input_image_path)\n",
    "    new_size = (int(img.shape[1] * scale_factor), int(img.shape[0] * scale_factor))\n",
    "    upscaled_img = cv2.resize(img, new_size, interpolation=cv2.INTER_NEAREST)\n",
    "    cv2.imwrite(output_image_path, upscaled_img)\n"
   ]
  },
  {
   "cell_type": "code",
   "execution_count": null,
   "id": "475bdce8-c243-47c0-9bc0-9d7196a20a96",
   "metadata": {},
   "outputs": [],
   "source": [
    "def calculate_ssim(img, img2, crop_border, input_order='HWC', test_y_channel=False, **kwargs):\n",
    "    \"\"\"Calculate SSIM (structural similarity).\n",
    "\n",
    "    ``Paper: Image quality assessment: From error visibility to structural similarity``\n",
    "\n",
    "    The results are the same as that of the official released MATLAB code in\n",
    "    https://ece.uwaterloo.ca/~z70wang/research/ssim/.\n",
    "\n",
    "    For three-channel images, SSIM is calculated for each channel and then\n",
    "    averaged.\n",
    "\n",
    "    Args:\n",
    "        img (ndarray): Images with range [0, 255].\n",
    "        img2 (ndarray): Images with range [0, 255].\n",
    "        crop_border (int): Cropped pixels in each edge of an image. These pixels are not involved in the calculation.\n",
    "        input_order (str): Whether the input order is 'HWC' or 'CHW'.\n",
    "            Default: 'HWC'.\n",
    "        test_y_channel (bool): Test on Y channel of YCbCr. Default: False.\n",
    "\n",
    "    Returns:\n",
    "        float: SSIM result.\n",
    "    \"\"\"\n",
    "\n",
    "    assert img.shape == img2.shape, (f'Image shapes are different: {img.shape}, {img2.shape}.')\n",
    "    if input_order not in ['HWC', 'CHW']:\n",
    "        raise ValueError(f'Wrong input_order {input_order}. Supported input_orders are \"HWC\" and \"CHW\"')\n",
    "    img = reorder_image(img, input_order=input_order)\n",
    "    img2 = reorder_image(img2, input_order=input_order)\n",
    "\n",
    "    if crop_border != 0:\n",
    "        img = img[crop_border:-crop_border, crop_border:-crop_border, ...]\n",
    "        img2 = img2[crop_border:-crop_border, crop_border:-crop_border, ...]\n",
    "\n",
    "    if test_y_channel:\n",
    "        img = to_y_channel(img)\n",
    "        img2 = to_y_channel(img2)\n",
    "\n",
    "    img = img.astype(np.float64)\n",
    "    img2 = img2.astype(np.float64)\n",
    "\n",
    "    ssims = []\n",
    "    for i in range(img.shape[2]):\n",
    "        ssims.append(_ssim(img[..., i], img2[..., i]))\n",
    "    return np.array(ssims).mean()"
   ]
  },
  {
   "cell_type": "code",
   "execution_count": null,
   "id": "8f445077-3507-44a9-9990-3b12c098cb57",
   "metadata": {},
   "outputs": [],
   "source": [
    "def calculate_psnr(img, img2, crop_border, input_order='HWC', test_y_channel=False, **kwargs):\n",
    "    \"\"\"Calculate PSNR (Peak Signal-to-Noise Ratio).\n",
    "\n",
    "    Reference: https://en.wikipedia.org/wiki/Peak_signal-to-noise_ratio\n",
    "\n",
    "    Args:\n",
    "        img (ndarray): Images with range [0, 255].\n",
    "        img2 (ndarray): Images with range [0, 255].\n",
    "        crop_border (int): Cropped pixels in each edge of an image. These pixels are not involved in the calculation.\n",
    "        input_order (str): Whether the input order is 'HWC' or 'CHW'. Default: 'HWC'.\n",
    "        test_y_channel (bool): Test on Y channel of YCbCr. Default: False.\n",
    "\n",
    "    Returns:\n",
    "        float: PSNR result.\n",
    "    \"\"\"\n",
    "\n",
    "    assert img.shape == img2.shape, (f'Image shapes are different: {img.shape}, {img2.shape}.')\n",
    "    if input_order not in ['HWC', 'CHW']:\n",
    "        raise ValueError(f'Wrong input_order {input_order}. Supported input_orders are \"HWC\" and \"CHW\"')\n",
    "    img = reorder_image(img, input_order=input_order)\n",
    "    img2 = reorder_image(img2, input_order=input_order)\n",
    "\n",
    "    if crop_border != 0:\n",
    "        img = img[crop_border:-crop_border, crop_border:-crop_border, ...]\n",
    "        img2 = img2[crop_border:-crop_border, crop_border:-crop_border, ...]\n",
    "\n",
    "    if test_y_channel:\n",
    "        img = to_y_channel(img)\n",
    "        img2 = to_y_channel(img2)\n",
    "\n",
    "    img = img.astype(np.float64)\n",
    "    img2 = img2.astype(np.float64)\n",
    "\n",
    "    mse = np.mean((img - img2)**2)\n",
    "    if mse == 0:\n",
    "        return float('inf')\n",
    "    return 10. * np.log10(255. * 255. / mse)"
   ]
  },
  {
   "cell_type": "code",
   "execution_count": 21,
   "id": "390c2d88-0948-4f98-88fc-6adff41ac19c",
   "metadata": {
    "tags": []
   },
   "outputs": [
    {
     "name": "stdout",
     "output_type": "stream",
     "text": [
      "{'patch_6.png': 28.75624242862887, 'patch_5.png': 28.36340474090872, 'patch_3.png': 28.781944531765816, 'patch_1.png': 28.706881403837052, 'patch_2.png': 29.15852686990407, 'patch_4.png': 29.042335255187982}\n"
     ]
    }
   ],
   "source": [
    "import os\n",
    "import cv2\n",
    "import numpy as np\n",
    "\n",
    "def upscale_image_opencv(image, scale_factor):\n",
    "    new_size = (int(image.shape[1] * scale_factor), int(image.shape[0] * scale_factor))\n",
    "    upscaled_img = cv2.resize(image, new_size, interpolation=cv2.INTER_NEAREST)\n",
    "    return upscaled_img\n",
    "\n",
    "def calculate_psnr(original_img, upscaled_img):\n",
    "    mse = np.mean((original_img - upscaled_img) ** 2)\n",
    "    if mse == 0:\n",
    "        return float('inf')\n",
    "    psnr = 20 * np.log10(255 / np.sqrt(mse))\n",
    "    return psnr\n",
    "\n",
    "def process_images_in_directory(directory_path_lr, directory_path_gt, scale_factor):\n",
    "    image_files_lr = [f for f in os.listdir(directory_path_lr) if f.endswith(('.png', '.jpg', '.jpeg'))]\n",
    "    image_files_gt = [f for f in os.listdir(directory_path_gt) if f.endswith(('.png', '.jpg', '.jpeg'))]\n",
    "    results = {}\n",
    "\n",
    "    for filename in image_files_lr:\n",
    "        file_path_lr = os.path.join(directory_path_lr, filename)\n",
    "        original_img = cv2.imread(file_path_lr)\n",
    "        \n",
    "        file_path_gt = os.path.join(directory_path_gt, filename)\n",
    "        gt_img = cv2.imread(file_path_gt)\n",
    "\n",
    "\n",
    "        upscaled_img = upscale_image_opencv(original_img, scale_factor)\n",
    "        psnr_value = calculate_psnr(gt_img, upscaled_img)\n",
    "\n",
    "        results[filename] = psnr_value\n",
    "    \n",
    "    return results\n",
    "\n",
    "# Use the function like this:\n",
    "directory_path_lr = '/home/jovyan/work/saved_data/HAT/datasets/Sat3/Sat3Lq'\n",
    "directory_path_gt = '/home/jovyan/work/saved_data/HAT/datasets/Sat3/Sat3Hq'\n",
    "scale_factor = 3  # for example, to double the size of the image\n",
    "results = process_images_in_directory(directory_path_lr, directory_path_gt, scale_factor)\n",
    "print(results)\n"
   ]
  },
  {
   "cell_type": "code",
   "execution_count": 18,
   "id": "d48225de-3e74-4313-838d-44618d95b86c",
   "metadata": {
    "tags": []
   },
   "outputs": [
    {
     "data": {
      "text/plain": [
       "31.356356539764437"
      ]
     },
     "execution_count": 18,
     "metadata": {},
     "output_type": "execute_result"
    }
   ],
   "source": [
    "def calculate_mean_psnr(psnr_dict):\n",
    "    total_sum = sum(psnr_dict.values())\n",
    "    mean_psnr = total_sum / len(psnr_dict)\n",
    "    return mean_psnr\n",
    "\n",
    "calculate_mean_psnr(results)"
   ]
  },
  {
   "cell_type": "code",
   "execution_count": null,
   "id": "bf19e1c7-9c18-4617-a3f7-f7c7fa680bf9",
   "metadata": {},
   "outputs": [],
   "source": [
    "def calculate_ssim(img, img2):\n",
    "    ssims = []\n",
    "    for i in range(img.shape[2]):\n",
    "        ssims.append(_ssim(img[..., i], img2[..., i]))\n",
    "    return np.array(ssims).mean()"
   ]
  },
  {
   "cell_type": "code",
   "execution_count": 22,
   "id": "aac2b57b-2d7a-4751-a617-f1f5222d6b82",
   "metadata": {
    "tags": []
   },
   "outputs": [
    {
     "name": "stdout",
     "output_type": "stream",
     "text": [
      "{'patch_6.png': 1.9370440622958427, 'patch_5.png': 1.9728987197560137, 'patch_3.png': 1.955949801890308, 'patch_1.png': 1.8978980633286529, 'patch_2.png': 2.1102403077447214, 'patch_4.png': 1.986388648904062}\n"
     ]
    }
   ],
   "source": [
    "import os\n",
    "import cv2\n",
    "import numpy as np\n",
    "\n",
    "def upscale_image_opencv(image, scale_factor):\n",
    "    new_size = (int(image.shape[1] * scale_factor), int(image.shape[0] * scale_factor))\n",
    "    upscaled_img = cv2.resize(image, new_size, interpolation=cv2.INTER_NEAREST)\n",
    "    return upscaled_img\n",
    "\n",
    "def calculate_ssim(img, img2):\n",
    "    ssims = []\n",
    "    for i in range(img.shape[2]):\n",
    "        ssims.append(_ssim(img[..., i], img2[..., i]))\n",
    "    return np.array(ssims).mean()\n",
    "\n",
    "def _ssim(img, img2):\n",
    "    \"\"\"Calculate SSIM (structural similarity) for one channel images.\n",
    "\n",
    "    It is called by func:`calculate_ssim`.\n",
    "\n",
    "    Args:\n",
    "        img (ndarray): Images with range [0, 255] with order 'HWC'.\n",
    "        img2 (ndarray): Images with range [0, 255] with order 'HWC'.\n",
    "\n",
    "    Returns:\n",
    "        float: SSIM result.\n",
    "    \"\"\"\n",
    "\n",
    "    c1 = (0.01 * 255)**2\n",
    "    c2 = (0.03 * 255)**2\n",
    "    kernel = cv2.getGaussianKernel(11, 1.5)\n",
    "    window = np.outer(kernel, kernel.transpose())\n",
    "\n",
    "    mu1 = cv2.filter2D(img, -1, window)[5:-5, 5:-5]  # valid mode for window size 11\n",
    "    mu2 = cv2.filter2D(img2, -1, window)[5:-5, 5:-5]\n",
    "    mu1_sq = mu1**2\n",
    "    mu2_sq = mu2**2\n",
    "    mu1_mu2 = mu1 * mu2\n",
    "    sigma1_sq = cv2.filter2D(img**2, -1, window)[5:-5, 5:-5] - mu1_sq\n",
    "    sigma2_sq = cv2.filter2D(img2**2, -1, window)[5:-5, 5:-5] - mu2_sq\n",
    "    sigma12 = cv2.filter2D(img * img2, -1, window)[5:-5, 5:-5] - mu1_mu2\n",
    "\n",
    "    ssim_map = ((2 * mu1_mu2 + c1) * (2 * sigma12 + c2)) / ((mu1_sq + mu2_sq + c1) * (sigma1_sq + sigma2_sq + c2))\n",
    "    return ssim_map.mean()\n",
    "\n",
    "\n",
    "def process_images_in_directory(directory_path_lr, directory_path_gt, scale_factor):\n",
    "    image_files_lr = [f for f in os.listdir(directory_path_lr) if f.endswith(('.png', '.jpg', '.jpeg'))]\n",
    "    image_files_gt = [f for f in os.listdir(directory_path_gt) if f.endswith(('.png', '.jpg', '.jpeg'))]\n",
    "    results = {}\n",
    "\n",
    "    for filename in image_files_lr:\n",
    "        file_path_lr = os.path.join(directory_path_lr, filename)\n",
    "        original_img = cv2.imread(file_path_lr)\n",
    "        \n",
    "        file_path_gt = os.path.join(directory_path_gt, filename)\n",
    "        gt_img = cv2.imread(file_path_gt)\n",
    "\n",
    "\n",
    "        upscaled_img = upscale_image_opencv(original_img, scale_factor)\n",
    "        psnr_value = calculate_ssim(gt_img, upscaled_img)\n",
    "\n",
    "        results[filename] = psnr_value\n",
    "    \n",
    "    return results\n",
    "\n",
    "# Use the function like this:\n",
    "directory_path_lr = '/home/jovyan/work/saved_data/HAT/datasets/Sat3/Sat3Lq'\n",
    "directory_path_gt = '/home/jovyan/work/saved_data/HAT/datasets/Sat3/Sat3Hq'\n",
    "scale_factor = 3  # for example, to double the size of the image\n",
    "results = process_images_in_directory(directory_path_lr, directory_path_gt, scale_factor)\n",
    "print(results)"
   ]
  },
  {
   "cell_type": "code",
   "execution_count": null,
   "id": "ec71e6d0-57e5-4ac8-9f87-cace2f9c8f06",
   "metadata": {
    "tags": []
   },
   "outputs": [],
   "source": []
  },
  {
   "cell_type": "code",
   "execution_count": null,
   "id": "afa40fb5-f264-480d-8f0f-d9f99a30b4a6",
   "metadata": {},
   "outputs": [],
   "source": []
  }
 ],
 "metadata": {
  "kernelspec": {
   "display_name": "Python 3 (ipykernel)",
   "language": "python",
   "name": "python3"
  },
  "language_info": {
   "codemirror_mode": {
    "name": "ipython",
    "version": 3
   },
   "file_extension": ".py",
   "mimetype": "text/x-python",
   "name": "python",
   "nbconvert_exporter": "python",
   "pygments_lexer": "ipython3",
   "version": "3.8.10"
  }
 },
 "nbformat": 4,
 "nbformat_minor": 5
}
