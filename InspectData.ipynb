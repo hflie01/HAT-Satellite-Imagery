{
 "cells": [
  {
   "cell_type": "code",
   "execution_count": null,
   "id": "84683e1a-fe2e-4232-a0ef-ce99bf434df0",
   "metadata": {
    "tags": []
   },
   "outputs": [],
   "source": [
    "from PIL import Image\n",
    "im = Image.open('/home/jovyan/work/satellite_data/v2/S2A_MSIL1C_20200102T102421_N0208_R065_T32UPB_20200102T105534.tif')\n",
    "im.show()\n"
   ]
  },
  {
   "cell_type": "code",
   "execution_count": null,
   "id": "4c2e545d-7451-4de7-ab0b-051dbaddc3f9",
   "metadata": {},
   "outputs": [],
   "source": [
    "import os\n",
    "from PIL import Image\n",
    "import numpy as np\n",
    "\n",
    "directory = '/home/jovyan/work/satellite_data/v1'\n",
    "files = os.listdir(directory)\n",
    "index = 0\n",
    "for file in files:\n",
    "    file_path = os.path.join(directory, file)  # Create full path to the file\n",
    "    #im = Image.open(file_path)  # Open the image\n",
    "    #imnp = np.array(im)  # Convert the image to a NumPy array\n",
    "    #print(imnp.size)\n",
    "    print(file_path\n",
    "    index += 1\n",
    "    \n",
    "print(index)"
   ]
  },
  {
   "cell_type": "code",
   "execution_count": null,
   "id": "dfb7aec6-cda8-4e93-9578-c39e4f488cb4",
   "metadata": {
    "tags": []
   },
   "outputs": [],
   "source": [
    "import os\n",
    "import cv2\n",
    "import numpy as np\n",
    "\n",
    "def load_images_to_numpy_arrays_cv2(directory):\n",
    "    image_arrays = []\n",
    "    for filename in os.listdir(directory):\n",
    "        if filename.endswith('.tif'):  # Check for TIFF files\n",
    "            file_path = os.path.join(directory, filename)\n",
    "            img = cv2.imread(file_path, cv2.IMREAD_UNCHANGED)  # Read the image with unchanged color depth\n",
    "            if img is not None:\n",
    "                print(img.shape)\n",
    "                #image_arrays.append(img)\n",
    "            else:\n",
    "                print(f\"Could not read the image: {file_path}\")\n",
    "    return image_arrays\n",
    "\n",
    "# Use the method\n",
    "directory = '/home/jovyan/work/satellite_data/v1'\n",
    "numpy_arrays_cv2 = load_images_to_numpy_arrays_cv2(directory)\n",
    "\n",
    "# Now numpy_arrays_cv2 contains all the images from the directory as NumPy arrays\n"
   ]
  },
  {
   "cell_type": "code",
   "execution_count": 115,
   "id": "3de50cc9-af7a-4d0d-8eb1-a2dac5316c5a",
   "metadata": {
    "tags": []
   },
   "outputs": [
    {
     "name": "stdout",
     "output_type": "stream",
     "text": [
      "     Satellite Processing_Level Acquisition_DateTime Baseline_Number   \n",
      "0          S2A           MSIL1C  2022-11-13 10:43:11           N0400  \\\n",
      "1          S2A           MSIL1C  2022-08-09 10:20:41           N0400   \n",
      "2          S2A           MSIL1C  2022-07-20 10:16:11           N0400   \n",
      "3          S2A           MSIL1C  2022-11-14 10:13:01           N0400   \n",
      "4          S2B           MSIL1C  2022-08-13 10:46:29           N0400   \n",
      "...        ...              ...                  ...             ...   \n",
      "1305       S2A           MSIL1C  2022-08-25 10:36:41           N0400   \n",
      "1306       S2A           MSIL1C  2022-07-24 10:00:41           N0400   \n",
      "1307       S2A           MSIL1C  2023-01-16 10:23:51           N0509   \n",
      "1308       S2B           MSIL2A  2022-08-10 10:36:29           N0400   \n",
      "1309       S2B           MSIL2A  2022-07-11 10:36:29           N0400   \n",
      "\n",
      "     Relative_Orbit Tile_Number Product_Discriminator    Month  \n",
      "0              R008      T32ULA   20221113T141014.tif  2022-11  \n",
      "1              R065      T32UNU   20220809T153907.tif  2022-08  \n",
      "2              R065      T32UPG   20220720T140828.tif  2022-07  \n",
      "3              R022      T32UQV   20221114T121031.tif  2022-11  \n",
      "4              R051      T32ULC   20220813T113233.tif  2022-08  \n",
      "...             ...         ...                   ...      ...  \n",
      "1305           R008      T32UMF   20220825T173926.tif  2022-08  \n",
      "1306           R122      T33UVU   20220724T120137.tif  2022-07  \n",
      "1307           R065      T33UUQ   20230116T122014.tif  2023-01  \n",
      "1308           R008      T31UFV   20220810T121256.tif  2022-08  \n",
      "1309           R008      T31TGN   20220711T121934.tif  2022-07  \n",
      "\n",
      "[1310 rows x 8 columns]\n"
     ]
    }
   ],
   "source": [
    "import os\n",
    "import numpy as np\n",
    "import pandas as pd\n",
    "\n",
    "directory = '/home/jovyan/work/satellite_data/v1'\n",
    "files = os.listdir(directory)\n",
    "columns = ['Satellite', 'Processing_Level', 'Acquisition_DateTime', 'Baseline_Number', \n",
    "           'Relative_Orbit', 'Tile_Number', 'Product_Discriminator']\n",
    "\n",
    "# Initialize an empty array for data with zero rows and seven columns\n",
    "data = np.empty((0, 7))  # Note that it's (0, 7), not just 7\n",
    "\n",
    "for file in files:\n",
    "    parts = file.split('_')\n",
    "    if len(parts) == 7:\n",
    "        var = np.array([parts])  # Create a 2D array from parts\n",
    "        data = np.vstack((data, var))  # Stack the new array under the existing data\n",
    "\n",
    "# If you want to create a DataFrame from this numpy array, you can do so:\n",
    "df = pd.DataFrame(data, columns=columns)\n",
    "\n",
    "# Now df contains all the data from the filenames\n",
    "df[\"Acquisition_DateTime\"] = convert_datetime(df[\"Acquisition_DateTime\"])\n",
    "df['Month'] = df['Acquisition_DateTime'].dt.to_period('M')\n",
    "\n",
    "print(df)\n"
   ]
  },
  {
   "cell_type": "code",
   "execution_count": 62,
   "id": "f4349ba7-7b32-407e-9507-e499dad658bd",
   "metadata": {
    "tags": []
   },
   "outputs": [],
   "source": [
    "geo = np.array(df['Tile_Number'])"
   ]
  },
  {
   "cell_type": "code",
   "execution_count": 116,
   "id": "64649902-dbdd-4ecc-b962-cac364f5c5bc",
   "metadata": {
    "tags": []
   },
   "outputs": [
    {
     "name": "stdout",
     "output_type": "stream",
     "text": [
      "Month\n",
      "2022-08    511\n",
      "2022-07    228\n",
      "2022-10    178\n",
      "2022-11    142\n",
      "2022-12    112\n",
      "2022-09    105\n",
      "2023-01     34\n",
      "Freq: M, Name: count, dtype: int64\n"
     ]
    }
   ],
   "source": [
    "value_counts = df['Month'].value_counts()\n",
    "\n",
    "print(value_counts)"
   ]
  },
  {
   "cell_type": "code",
   "execution_count": null,
   "id": "c6cfdef9-1a8c-499e-b817-aaf98e3b6cdf",
   "metadata": {},
   "outputs": [],
   "source": [
    "value_counts = df['Tile_Number'].value_counts()\n",
    "\n",
    "print(value_counts)"
   ]
  },
  {
   "cell_type": "code",
   "execution_count": 89,
   "id": "b5b84dbd-9bbb-4f33-8c76-0befda925a4c",
   "metadata": {
    "tags": []
   },
   "outputs": [
    {
     "name": "stdout",
     "output_type": "stream",
     "text": [
      "Value: T32UQV, Count: 8\n"
     ]
    }
   ],
   "source": [
    "# Get the 80th value and its count\n",
    "value = value_counts.index[73]\n",
    "count = value_counts[value]\n",
    "\n",
    "# Print the value and its count\n",
    "print(f\"Value: {value}, Count: {count}\")\n"
   ]
  },
  {
   "cell_type": "code",
   "execution_count": 99,
   "id": "2d6e5b7a-43c1-4409-9dd1-0f48b898310a",
   "metadata": {},
   "outputs": [
    {
     "name": "stdout",
     "output_type": "stream",
     "text": [
      "['S2A_MSIL2A_20220812T103031_N0400_R108_T32UNB_20220812T182800.tif', 'S2A_MSIL1C_20220812T103031_N0400_R108_T32UNB_20220812T155113.tif', 'S2B_MSIL1C_20220824T101559_N0400_R065_T32UNB_20220824T122701.tif', 'S2B_MSIL1C_20220807T102559_N0400_R108_T32UNB_20220807T123443.tif']\n"
     ]
    }
   ],
   "source": [
    "import os\n",
    "\n",
    "def filter_images_by_tile(directory, tile_code):\n",
    "    \"\"\"\n",
    "    Collects a list of filenames that contain a specific MGRS tile code.\n",
    "\n",
    "    Parameters:\n",
    "    - directory: The directory containing the image files.\n",
    "    - tile_code: The MGRS tile code to filter by (e.g., 'T32UPB').\n",
    "\n",
    "    Returns:\n",
    "    - A list of filenames that contain the specified MGRS tile code.\n",
    "    \"\"\"\n",
    "    # List to hold the filenames that match the tile_code\n",
    "    filtered_filenames = []\n",
    "\n",
    "    # Iterate over all files in the given directory\n",
    "    for filename in os.listdir(directory):\n",
    "        # Check if the tile_code is part of the filename\n",
    "        if tile_code in filename:\n",
    "            filtered_filenames.append(filename)\n",
    "\n",
    "    return filtered_filenames\n",
    "\n",
    "# Example usage:\n",
    "directory = '/home/jovyan/work/satellite_data/v1'\n",
    "specific_tile_code = 'T32UNB'\n",
    "matching_files = filter_images_by_tile(directory, specific_tile_code)\n",
    "\n",
    "# Now 'matching_files' contains all the filenames that include 'T32UPB'\n",
    "print(matching_files)\n"
   ]
  },
  {
   "cell_type": "code",
   "execution_count": 73,
   "id": "69fbda45-4bad-43e8-b3aa-029afcfb5d51",
   "metadata": {
    "tags": []
   },
   "outputs": [],
   "source": [
    "import cv2\n",
    "import numpy as np\n",
    "import os\n",
    "\n",
    "def load_images_from_filenames(directory, filenames):\n",
    "    \"\"\"\n",
    "    Loads images from a list of filenames into NumPy arrays.\n",
    "\n",
    "    Parameters:\n",
    "    - directory: The directory containing the image files.\n",
    "    - filenames: A list of filenames to load.\n",
    "\n",
    "    Returns:\n",
    "    - A list of NumPy arrays representing the loaded images.\n",
    "    \"\"\"\n",
    "    image_arrays = []\n",
    "\n",
    "    # Iterate over the filenames\n",
    "    for filename in filenames:\n",
    "        # Construct the full path to the image file\n",
    "        file_path = os.path.join(directory, filename)\n",
    "        \n",
    "        # Load the image using OpenCV\n",
    "        image = cv2.imread(file_path, cv2.IMREAD_UNCHANGED)\n",
    "        \n",
    "        # Check if the image was loaded successfully\n",
    "        if image is not None:\n",
    "            image_arrays.append(image)\n",
    "        else:\n",
    "            print(f\"Failed to load image: {file_path}\")\n",
    "\n",
    "    return image_arrays\n",
    "\n",
    "# Example usage:\n",
    "directory = '/home/jovyan/work/satellite_data/v1'\n",
    "specific_tile_code = 'T32UQV'\n",
    "filtered_filenames = filter_images_by_tile(directory, specific_tile_code)\n",
    "image_data = load_images_from_filenames(directory, filtered_filenames)\n",
    "\n",
    "# Now 'image_data' contains the images as NumPy arrays"
   ]
  },
  {
   "cell_type": "code",
   "execution_count": 102,
   "id": "47122234-3a82-4330-a5c8-707bf20e0e1c",
   "metadata": {
    "tags": []
   },
   "outputs": [],
   "source": [
    "import cv2\n",
    "import numpy as np\n",
    "import os\n",
    "\n",
    "def load_and_resize_images(directory, filenames, new_size=(1024, 1024)):\n",
    "    \"\"\"\n",
    "    Loads images from a list of filenames, resizes them to the given size, \n",
    "    and stores them as NumPy arrays.\n",
    "\n",
    "    Parameters:\n",
    "    - directory: The directory containing the image files.\n",
    "    - filenames: A list of filenames to load.\n",
    "    - new_size: A tuple defining the new image size (width, height).\n",
    "\n",
    "    Returns:\n",
    "    - A list of NumPy arrays representing the resized images.\n",
    "    \"\"\"\n",
    "    resized_images = []\n",
    "\n",
    "    # Iterate over the filenames\n",
    "    for filename in filenames:\n",
    "        # Construct the full path to the image file\n",
    "        file_path = os.path.join(directory, filename)\n",
    "        \n",
    "        # Load the image using OpenCV\n",
    "        image = cv2.imread(file_path, cv2.IMREAD_UNCHANGED)\n",
    "        \n",
    "        # Check if the image was loaded successfully\n",
    "        if image is not None:\n",
    "            # Resize the image to the new size\n",
    "            resized_image = cv2.resize(image, new_size, interpolation=cv2.INTER_AREA)\n",
    "            resized_images.append(resized_image)\n",
    "        else:\n",
    "            print(f\"Failed to load image: {file_path}\")\n",
    "\n",
    "    return resized_images\n",
    "\n",
    "# Example usage:\n",
    "directory = '/home/jovyan/work/satellite_data/v1'\n",
    "specific_tile_code = 'T32UNB'\n",
    "filtered_filenames = filter_images_by_tile(directory, specific_tile_code)\n",
    "resized_image_data = load_and_resize_images(directory, filtered_filenames)\n",
    "\n",
    "# Now 'resized_image_data' contains the images resized to (1024, 1024)\n"
   ]
  },
  {
   "cell_type": "code",
   "execution_count": null,
   "id": "4127ed0a-2593-4b58-81b3-2064fbceebca",
   "metadata": {
    "tags": []
   },
   "outputs": [],
   "source": [
    "import matplotlib.pyplot as plt\n",
    "\n",
    "def show_images(images):\n",
    "    \"\"\"\n",
    "    Displays images in a Jupyter notebook.\n",
    "\n",
    "    Parameters:\n",
    "    - images: A list of NumPy arrays representing the images to display.\n",
    "    \"\"\"\n",
    "    for i, image in enumerate(images):\n",
    "        plt.figure(figsize=(10, 10))  # Set the figure size to 10x10 inches\n",
    "        plt.imshow(cv2.cvtColor(image, cv2.COLOR_BGR2RGB))  # Convert BGR to RGB\n",
    "        plt.title(f'Image {i}')\n",
    "        plt.axis('off')  # Hide the axis\n",
    "        plt.show()\n",
    "\n",
    "# Example usage:\n",
    "# Assuming 'resized_image_data' is your list of resized image arrays\n",
    "show_images(resized_image_data)\n"
   ]
  },
  {
   "cell_type": "code",
   "execution_count": 101,
   "id": "27e3c9e0-862a-4a78-9da5-9f5e2f243fe1",
   "metadata": {
    "tags": []
   },
   "outputs": [
    {
     "name": "stdout",
     "output_type": "stream",
     "text": [
      "[[1.    0.378 0.376 0.336]\n",
      " [0.378 1.    0.476 0.532]\n",
      " [0.376 0.476 1.    0.496]\n",
      " [0.336 0.532 0.496 1.   ]]\n"
     ]
    }
   ],
   "source": [
    "import cv2\n",
    "import numpy as np\n",
    "\n",
    "def create_similarity_matrix(image_paths):\n",
    "    # Initialize ORB detector\n",
    "    orb = cv2.ORB_create()\n",
    "    \n",
    "    # List to hold all the descriptors\n",
    "    descriptors = []\n",
    "    \n",
    "    # Dictionary to hold the keypoints and descriptors for each image\n",
    "    image_features = {}\n",
    "    \n",
    "    # Read each image, detect keypoints and compute descriptors\n",
    "    for img_path in image_paths:\n",
    "        img = cv2.imread(img_path, 0)  # Read image in grayscale\n",
    "        kp, des = orb.detectAndCompute(img, None)\n",
    "        image_features[img_path] = (kp, des)\n",
    "        descriptors.append(des)\n",
    "    \n",
    "    # Initialize the similarity matrix with zeros\n",
    "    num_images = len(image_paths)\n",
    "    similarity_matrix = np.zeros((num_images, num_images))\n",
    "    \n",
    "    # Create BFMatcher object\n",
    "    bf = cv2.BFMatcher(cv2.NORM_HAMMING, crossCheck=True)\n",
    "    \n",
    "    # Compare each image with every other image\n",
    "    for i in range(num_images):\n",
    "        for j in range(i, num_images):  # Start from i to avoid repeating comparisons\n",
    "            if i == j:\n",
    "                # The diagonal values are set to the maximum number of keypoints in the image for normalization\n",
    "                similarity_matrix[i][j] = len(image_features[image_paths[i]][0])\n",
    "            else:\n",
    "                # Match descriptors between two images\n",
    "                matches = bf.match(image_features[image_paths[i]][1], image_features[image_paths[j]][1])\n",
    "                # The similarity score can be defined as the number of good matches; other definitions can be used\n",
    "                similarity_matrix[i][j] = similarity_matrix[j][i] = len(matches)\n",
    "    \n",
    "    # Normalize the similarity matrix by the diagonal to keep scores between 0 and 1\n",
    "    for i in range(num_images):\n",
    "        similarity_matrix[:, i] /= similarity_matrix[i][i]\n",
    "    \n",
    "    return similarity_matrix\n",
    "\n",
    "# Example usage:\n",
    "image_paths = [\n",
    "    '/home/jovyan/work/satellite_data/v1/S2A_MSIL2A_20220812T103031_N0400_R108_T32UNB_20220812T182800.tif',\n",
    "    '/home/jovyan/work/satellite_data/v1/S2A_MSIL1C_20220812T103031_N0400_R108_T32UNB_20220812T155113.tif',\n",
    "    '/home/jovyan/work/satellite_data/v1/S2B_MSIL1C_20220824T101559_N0400_R065_T32UNB_20220824T122701.tif',\n",
    "    '/home/jovyan/work/satellite_data/v1/S2B_MSIL1C_20220807T102559_N0400_R108_T32UNB_20220807T123443.tif',\n",
    "    # ... more image paths\n",
    "]\n",
    "\n",
    "similarity_matrix = create_similarity_matrix(image_paths)\n",
    "print(similarity_matrix)\n"
   ]
  },
  {
   "cell_type": "code",
   "execution_count": 3,
   "id": "a2a16900-4d38-4133-8bca-cab4c3006ed1",
   "metadata": {
    "tags": []
   },
   "outputs": [
    {
     "name": "stdout",
     "output_type": "stream",
     "text": [
      "['S2B_MSIL1C_20210306T100029_N0209_R122_T33UWS_20210306T121335_crop_28_63.png', 'S2A_MSIL1C_20220724T100041_N0400_R122_T33UWS_20220724T120137_crop_16_7.png', 'S2B_MSIL1C_20210306T100029_N0209_R122_T33UWS_20210306T121335_crop_31_51.png', 'S2A_MSIL1C_20220724T100041_N0400_R122_T33UWS_20220724T120137_crop_75_64.png', 'S2A_MSIL1C_20221012T095941_N0400_R122_T33UWS_20221012T120015_crop_0_53.png', 'S2A_MSIL1C_20221012T095941_N0400_R122_T33UWS_20221012T120015_crop_6_30.png', 'S2B_MSIL1C_20220619T100029_N0400_R122_T33UWS_20220619T104419_crop_38_62.png', 'S2A_MSIL1C_20221012T095941_N0400_R122_T33UWS_20221012T120015_crop_78_82.png', 'S2B_MSIL2A_20220619T100029_N0400_R122_T33UWS_20220619T114329_crop_13_31.png', 'S2B_MSIL1C_20210326T100029_N0209_R122_T33UWS_20210326T120554_crop_36_41.png']\n"
     ]
    }
   ],
   "source": [
    "# Ersetzen Sie '/pfad/zu/ihrem/verzeichnis' mit dem Pfad des Verzeichnisses, das Sie untersuchen möchten.\n",
    "file_names = show_first_10_files('/home/jovyan/work/saved_data/HAT/datasets/SI2gt')\n",
    "print(file_names)\n"
   ]
  },
  {
   "cell_type": "code",
   "execution_count": 2,
   "id": "311c128a-160c-4e84-9763-4d7490efee46",
   "metadata": {
    "tags": []
   },
   "outputs": [],
   "source": [
    "import os\n",
    "\n",
    "def show_first_10_files(directory_path):\n",
    "    \"\"\"\n",
    "    Returns the names of the first 10 files in the given directory.\n",
    "\n",
    "    :param directory_path: Path to the directory of interest\n",
    "    :return: List of the first 10 file names\n",
    "    \"\"\"\n",
    "    try:\n",
    "        # List all files in the given directory\n",
    "        files = [f for f in os.listdir(directory_path) if os.path.isfile(os.path.join(directory_path, f))]\n",
    "        \n",
    "        # Return the first 10 files\n",
    "        return files[:10]\n",
    "    except Exception as e:\n",
    "        return f\"An error occurred: {e}\"\n",
    "\n",
    "# Führen Sie diese Zelle aus, um die Funktion zu definieren.\n"
   ]
  },
  {
   "cell_type": "code",
   "execution_count": 5,
   "id": "dee95446-d8f6-416b-a1c2-9e774389dfa6",
   "metadata": {
    "tags": []
   },
   "outputs": [
    {
     "name": "stdout",
     "output_type": "stream",
     "text": [
      "['S2B_MSIL1C_20210306T100029_N0209_R122_T33UWS_20210306T121335_crop_28_63.png', 'S2A_MSIL1C_20220724T100041_N0400_R122_T33UWS_20220724T120137_crop_28_63.png', 'S2B_MSIL1C_20210326T100029_N0209_R122_T33UWS_20210326T120554_crop_28_63.png', 'S2A_MSIL2A_20221012T095941_N0400_R122_T33UWS_20221012T142855_crop_28_63.png', 'S2B_MSIL1C_20220619T100029_N0400_R122_T33UWS_20220619T104419_crop_28_63.png', 'S2B_MSIL2A_20220619T100029_N0400_R122_T33UWS_20220619T114329_crop_28_63.png', 'S2A_MSIL1C_20220627T100611_N0400_R022_T33UWS_20220627T134958_crop_28_63.png', 'S2A_MSIL1C_20221012T095941_N0400_R122_T33UWS_20221012T120015_crop_28_63.png']\n"
     ]
    }
   ],
   "source": [
    "def show_files_by_region_and_section(directory_path, region_code, section):\n",
    "    \"\"\"\n",
    "    Returns file names in the given directory that match the specified region code and section.\n",
    "\n",
    "    :param directory_path: Path to the directory of interest\n",
    "    :param region_code: The region code to filter files\n",
    "    :param section: The section to filter files\n",
    "    :return: List of file names that match the criteria\n",
    "    \"\"\"\n",
    "    matching_files = []\n",
    "\n",
    "    try:\n",
    "        # List all files in the given directory\n",
    "        files = [f for f in os.listdir(directory_path) if os.path.isfile(os.path.join(directory_path, f))]\n",
    "\n",
    "        for file in files:\n",
    "            if region_code in file and section in file:\n",
    "                matching_files.append(file)\n",
    "\n",
    "    except Exception as e:\n",
    "        return f\"An error occurred: {e}\"\n",
    "\n",
    "    return matching_files\n",
    "\n",
    "# Beispielaufruf\n",
    "file_names = show_files_by_region_and_section('/home/jovyan/work/saved_data/HAT/datasets/SI2gt', 'T33UWS', 'crop_28_63')\n",
    "print(file_names)"
   ]
  },
  {
   "cell_type": "code",
   "execution_count": 6,
   "id": "036d1b54-c52e-4915-a38f-706a9f4701c9",
   "metadata": {
    "tags": []
   },
   "outputs": [
    {
     "name": "stdout",
     "output_type": "stream",
     "text": [
      "{('T33UWS', 'crop_28_63'): ['S2B_MSIL1C_20210306T100029_N0209_R122_T33UWS_20210306T121335_crop_28_63.png', 'S2A_MSIL1C_20220724T100041_N0400_R122_T33UWS_20220724T120137_crop_28_63.png', 'S2B_MSIL1C_20210326T100029_N0209_R122_T33UWS_20210326T120554_crop_28_63.png', 'S2A_MSIL2A_20221012T095941_N0400_R122_T33UWS_20221012T142855_crop_28_63.png', 'S2B_MSIL1C_20220619T100029_N0400_R122_T33UWS_20220619T104419_crop_28_63.png', 'S2B_MSIL2A_20220619T100029_N0400_R122_T33UWS_20220619T114329_crop_28_63.png', 'S2A_MSIL1C_20220627T100611_N0400_R022_T33UWS_20220627T134958_crop_28_63.png', 'S2A_MSIL1C_20221012T095941_N0400_R122_T33UWS_20221012T120015_crop_28_63.png']}\n"
     ]
    }
   ],
   "source": [
    "def show_files_by_region_and_section_sorted(directory_path, region_code, section):\n",
    "    \"\"\"\n",
    "    Returns file names in the given directory sorted into a dictionary by region code and section.\n",
    "\n",
    "    :param directory_path: Path to the directory of interest\n",
    "    :param region_code: The region code to filter files\n",
    "    :param section: The section to filter files\n",
    "    :return: Dictionary of lists of file names, sorted by region code and section\n",
    "    \"\"\"\n",
    "    sorted_files = {}\n",
    "\n",
    "    try:\n",
    "        # List all files in the given directory\n",
    "        files = [f for f in os.listdir(directory_path) if os.path.isfile(os.path.join(directory_path, f))]\n",
    "\n",
    "        for file in files:\n",
    "            if region_code in file and section in file:\n",
    "                key = (region_code, section)\n",
    "                if key not in sorted_files:\n",
    "                    sorted_files[key] = []\n",
    "                sorted_files[key].append(file)\n",
    "\n",
    "    except Exception as e:\n",
    "        return f\"An error occurred: {e}\"\n",
    "\n",
    "    return sorted_files\n",
    "\n",
    "# Beispielaufruf\n",
    "sorted_file_names = show_files_by_region_and_section_sorted('/home/jovyan/work/saved_data/HAT/datasets/SI2gt', 'T33UWS', 'crop_28_63')\n",
    "print(sorted_file_names)\n"
   ]
  },
  {
   "cell_type": "code",
   "execution_count": 8,
   "id": "278f1824-adb6-4543-ae8f-afade778e902",
   "metadata": {
    "tags": []
   },
   "outputs": [
    {
     "name": "stdout",
     "output_type": "stream",
     "text": [
      "Region Codes: set()\n",
      "Sections: set()\n"
     ]
    }
   ],
   "source": [
    "import os\n",
    "import re\n",
    "\n",
    "def extract_regions_and_sections(directory_path):\n",
    "    \"\"\"\n",
    "    Extracts all unique region codes and sections from the filenames in the given directory.\n",
    "\n",
    "    :param directory_path: Path to the directory of interest\n",
    "    :return: A tuple of two sets, the first containing all unique region codes, and the second containing all unique sections\n",
    "    \"\"\"\n",
    "    region_codes = set()\n",
    "    sections = set()\n",
    "\n",
    "    try:\n",
    "        # List all files in the given directory\n",
    "        files = [f for f in os.listdir(directory_path) if os.path.isfile(os.path.join(directory_path, f))]\n",
    "\n",
    "        for file in files:\n",
    "            # Extract region code and section using regular expressions\n",
    "            match = re.search(r'_(T\\d{5})_.*_(crop_\\d+_\\d+)', file)\n",
    "            if match:\n",
    "                region_code, section = match.groups()\n",
    "                region_codes.add(region_code)\n",
    "                sections.add(section)\n",
    "\n",
    "    except Exception as e:\n",
    "        print(f\"An error occurred: {e}\")\n",
    "\n",
    "    return region_codes, sections\n",
    "\n",
    "# Beispielaufruf\n",
    "region_codes, sections = extract_regions_and_sections('/home/jovyan/work/saved_data/HAT/datasets/SI2gt')\n",
    "print(\"Region Codes:\", region_codes)\n",
    "print(\"Sections:\", sections)\n"
   ]
  },
  {
   "cell_type": "code",
   "execution_count": null,
   "id": "97f0ff01-4271-48b0-a0b4-fcec5829c7ae",
   "metadata": {},
   "outputs": [],
   "source": []
  }
 ],
 "metadata": {
  "kernelspec": {
   "display_name": "Python 3 (ipykernel)",
   "language": "python",
   "name": "python3"
  },
  "language_info": {
   "codemirror_mode": {
    "name": "ipython",
    "version": 3
   },
   "file_extension": ".py",
   "mimetype": "text/x-python",
   "name": "python",
   "nbconvert_exporter": "python",
   "pygments_lexer": "ipython3",
   "version": "3.8.10"
  }
 },
 "nbformat": 4,
 "nbformat_minor": 5
}
